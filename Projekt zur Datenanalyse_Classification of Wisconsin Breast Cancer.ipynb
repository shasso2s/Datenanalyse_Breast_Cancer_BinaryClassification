{
 "cells": [
  {
   "cell_type": "markdown",
   "id": "da158747",
   "metadata": {},
   "source": [
    "#  Projekt zur Datenanalyse_Classification of Wisconsin Breast Cancer"
   ]
  },
  {
   "cell_type": "markdown",
   "id": "f1f8a8fb",
   "metadata": {},
   "source": []
  },
  {
   "cell_type": "markdown",
   "id": "52d38027",
   "metadata": {},
   "source": [
    "### Table of contents\n",
    "\n",
    "### chapter 1: Data Preparation\n",
    "\n",
    "1. Ordinal Encoding- Target variable\n",
    "       \n",
    "2. Feature Selecktion-SelectKBest\n",
    "    1. pearon correlation  \n",
    "    2. f_classif \n",
    "    3. Visualization of Feature selektion \n",
    "  \n",
    "3. Feature Scaling   \n",
    "   1. Standardization\n",
    "   2. Normalization\n",
    "    \n",
    "### chapter 2: Neural Network\n",
    "\n",
    "1. Split the dataset\n",
    "    1. Cross Validation- to overcome overfitting\n",
    "     \n",
    "2. Building a model\n",
    "    1. Input Layers- Hidden layers- Output layers\n",
    "    2. Compile the model\n",
    "       1. Optimization Moethod:\n",
    "           1.Stochastic Gradient Descent\n",
    "           2. Adam\n",
    "           3. Learning rate\n",
    "           \n",
    "3. Fitting the model\n",
    "4. Loss- Accuracy\n",
    "5. Evaluation metrics\n",
    "    1. Confusion_metrics\n",
    "    \n",
    "6. Classification threshold\n",
    "    1. Adjsting Threshold\n",
    "    2. ROC und AUC\n",
    "    3. Visualization of ROC- AUC\n",
    "7. Interpretation des modelles\n",
    "    1. Shap analysis\n",
    " \n",
    "### Chapter 3 : Support vector machine\n",
    "1. Data recuperation\n",
    "2. Data Visualization\n",
    "3. Correlation of features\n",
    "4. Data Selection\n",
    "5. Fiting the model\n",
    "6. testing the model\n",
    "7. tunning the hyperparameters\n",
    "8. Confusion matrix\n",
    "\n",
    "###  Chapter 4: k-nearest neighbors\n",
    "\n",
    "    \n",
    "\n"
   ]
  },
  {
   "cell_type": "markdown",
   "id": "493632a9",
   "metadata": {},
   "source": [
    " \n",
    "### **For more Information :** :[ https://www.downloadmaghaleh.com/wp-content/uploads/edd/maghaleh/1398/yosefi.wisconsin-min.pdf ]\n",
    "\n",
    "### Dataset: Description\n",
    "<a id=\"infos\"></a>\n",
    "* id\n",
    "* diagnosis\n",
    "* radius_mean\n",
    "* texture_mean\n",
    "* perimeter_mean\n",
    "* area_mean\n",
    "* smoothness_mean\n",
    "* compactness_mean\n",
    "* concavity_mean\n",
    "* concave points_mean\n",
    "* symmetry_mean\n",
    "* fractal_dimension_mean\n",
    "* radius_se\n",
    "* texture_se\n",
    "* perimeter_se\n",
    "* area_se\n",
    "* smoothness_se\n",
    "* compactness_se\n",
    "* concavity_se\n",
    "* concave points_se\n",
    "* symmetry_se ,\n",
    "* fractal_dimension_se\n",
    "* radius_worst\n",
    "* texture_worst\n",
    "* perimeter_worst\n",
    "* area_worst\n",
    "* smoothness_worst\n",
    "* compactness_worst\n",
    "* concavity_worst\n",
    "* concave points_worst\n",
    "* symmetry_worst\n",
    "* fractal_dimension_worst\n",
    "* Unnamed: 32"
   ]
  },
  {
   "cell_type": "markdown",
   "id": "f6b2f827",
   "metadata": {},
   "source": [
    "* This breast cancer databases was obtained from the University of Wisconsin Hospitals, Madison from Dr. William H. Wolberg."
   ]
  },
  {
   "cell_type": "code",
   "execution_count": 6,
   "id": "2dfc5b37",
   "metadata": {},
   "outputs": [],
   "source": [
    "import pandas as pd\n",
    "import matplotlib.pyplot as plt\n",
    "import numpy as np\n",
    "from sklearn.model_selection import train_test_split\n",
    "import tensorflow as tf\n",
    "from sklearn.impute import SimpleImputer"
   ]
  },
  {
   "cell_type": "markdown",
   "id": "55d8e089",
   "metadata": {},
   "source": [
    "* Data characteristics\n",
    "    * 569 Rows - 33 columns\n",
    "   "
   ]
  },
  {
   "cell_type": "code",
   "execution_count": null,
   "id": "aeda68a0",
   "metadata": {},
   "outputs": [],
   "source": []
  },
  {
   "cell_type": "code",
   "execution_count": null,
   "id": "4d715431",
   "metadata": {},
   "outputs": [],
   "source": []
  },
  {
   "cell_type": "code",
   "execution_count": null,
   "id": "404b30e6",
   "metadata": {
    "scrolled": true
   },
   "outputs": [],
   "source": [
    "\n"
   ]
  },
  {
   "cell_type": "code",
   "execution_count": null,
   "id": "efb4092b",
   "metadata": {},
   "outputs": [],
   "source": []
  },
  {
   "cell_type": "code",
   "execution_count": null,
   "id": "dcf6bd3b",
   "metadata": {},
   "outputs": [],
   "source": [
    "\n"
   ]
  },
  {
   "cell_type": "code",
   "execution_count": null,
   "id": "90de6478",
   "metadata": {},
   "outputs": [],
   "source": []
  },
  {
   "cell_type": "code",
   "execution_count": 10,
   "id": "964dc12c",
   "metadata": {},
   "outputs": [],
   "source": []
  },
  {
   "cell_type": "code",
   "execution_count": null,
   "id": "2967e8bd",
   "metadata": {},
   "outputs": [],
   "source": []
  },
  {
   "cell_type": "code",
   "execution_count": 12,
   "id": "676bcaa1",
   "metadata": {},
   "outputs": [],
   "source": [
    "\n"
   ]
  },
  {
   "cell_type": "code",
   "execution_count": null,
   "id": "75db691e",
   "metadata": {},
   "outputs": [],
   "source": []
  },
  {
   "cell_type": "code",
   "execution_count": null,
   "id": "ae6191de",
   "metadata": {},
   "outputs": [],
   "source": []
  },
  {
   "cell_type": "code",
   "execution_count": null,
   "id": "0f41d206",
   "metadata": {},
   "outputs": [],
   "source": []
  },
  {
   "cell_type": "code",
   "execution_count": null,
   "id": "b22549b2",
   "metadata": {},
   "outputs": [],
   "source": []
  },
  {
   "cell_type": "code",
   "execution_count": null,
   "id": "7991f520",
   "metadata": {},
   "outputs": [],
   "source": []
  },
  {
   "cell_type": "code",
   "execution_count": null,
   "id": "a2882093",
   "metadata": {},
   "outputs": [],
   "source": []
  },
  {
   "cell_type": "code",
   "execution_count": null,
   "id": "a9a8feb0",
   "metadata": {},
   "outputs": [],
   "source": [
    "\n",
    "\n"
   ]
  },
  {
   "cell_type": "code",
   "execution_count": null,
   "id": "d97027e1",
   "metadata": {},
   "outputs": [],
   "source": [
    "\n"
   ]
  },
  {
   "cell_type": "code",
   "execution_count": null,
   "id": "745977e2",
   "metadata": {},
   "outputs": [],
   "source": [
    "\n"
   ]
  },
  {
   "cell_type": "code",
   "execution_count": null,
   "id": "dcada59a",
   "metadata": {},
   "outputs": [],
   "source": []
  },
  {
   "cell_type": "code",
   "execution_count": null,
   "id": "14472351",
   "metadata": {},
   "outputs": [],
   "source": []
  }
 ],
 "metadata": {
  "kernelspec": {
   "display_name": "Python 3",
   "language": "python",
   "name": "python3"
  },
  "language_info": {
   "codemirror_mode": {
    "name": "ipython",
    "version": 3
   },
   "file_extension": ".py",
   "mimetype": "text/x-python",
   "name": "python",
   "nbconvert_exporter": "python",
   "pygments_lexer": "ipython3",
   "version": "3.8.10"
  }
 },
 "nbformat": 4,
 "nbformat_minor": 5
}
